{
 "cells": [
  {
   "cell_type": "markdown",
   "metadata": {},
   "source": [
    "### Parse all notebooks and update the library files"
   ]
  },
  {
   "cell_type": "code",
   "execution_count": 15,
   "metadata": {
    "tags": []
   },
   "outputs": [
    {
     "name": "stdout",
     "output_type": "stream",
     "text": [
      "Converted 00_core.ipynb.\n",
      "Converted index.ipynb.\n"
     ]
    }
   ],
   "source": [
    "from nbdev.export import *\n",
    "notebook2script()"
   ]
  },
  {
   "cell_type": "markdown",
   "metadata": {},
   "source": [
    "### Parse all notebooks and update the docs"
   ]
  },
  {
   "cell_type": "code",
   "execution_count": null,
   "metadata": {
    "tags": []
   },
   "outputs": [],
   "source": [
    "from nbdev.export2html import nbdev_build_docs\n",
    "nbdev_build_docs(n_workers=0)"
   ]
  },
  {
   "cell_type": "markdown",
   "metadata": {},
   "source": [
    "### Update the notebooks if there have been any adhoc changes (bug-fixes) directly made in library files"
   ]
  },
  {
   "cell_type": "code",
   "execution_count": null,
   "metadata": {
    "tags": []
   },
   "outputs": [],
   "source": [
    "from nbdev.sync import nbdev_update_lib\n",
    "nbdev_update_lib()"
   ]
  },
  {
   "cell_type": "code",
   "execution_count": null,
   "metadata": {
    "tags": []
   },
   "outputs": [],
   "source": [
    "!make release"
   ]
  },
  {
   "cell_type": "markdown",
   "metadata": {},
   "source": [
    "### Create a softlink"
   ]
  },
  {
   "cell_type": "markdown",
   "metadata": {
    "tags": []
   },
   "source": [
    "```\n",
    "%cd nbs\n",
    "!ln -s ../<libname> .\n",
    "%cd ..\n",
    "```"
   ]
  },
  {
   "cell_type": "markdown",
   "metadata": {},
   "source": [
    "### Create Editable Install (for testing locally)"
   ]
  },
  {
   "cell_type": "code",
   "execution_count": 1,
   "metadata": {},
   "outputs": [
    {
     "name": "stdout",
     "output_type": "stream",
     "text": [
      "Converted 00_core.ipynb.\n",
      "Converted 01_fft.ipynb.\n",
      "Converted index.ipynb.\n",
      "Obtaining file:///mnt/d04d289c-d0a7-4fd4-b883-ff227b3a8695/githubs/audio-snippets\n",
      "  Preparing metadata (setup.py) ... \u001b[?25ldone\n",
      "\u001b[?25hRequirement already satisfied: pip in /home/yyr/anaconda3/lib/python3.7/site-packages (from audio-snippets==0.0.1) (21.3.1)\n",
      "Requirement already satisfied: packaging in /home/yyr/anaconda3/lib/python3.7/site-packages (from audio-snippets==0.0.1) (21.2)\n",
      "Requirement already satisfied: librosa in /home/yyr/anaconda3/lib/python3.7/site-packages (from audio-snippets==0.0.1) (0.8.1)\n",
      "Requirement already satisfied: plotly in /home/yyr/anaconda3/lib/python3.7/site-packages (from audio-snippets==0.0.1) (5.3.1)\n",
      "Requirement already satisfied: torch_snippets in /home/yyr/anaconda3/lib/python3.7/site-packages (from audio-snippets==0.0.1) (0.466)\n",
      "Requirement already satisfied: soundfile in /home/yyr/anaconda3/lib/python3.7/site-packages (from audio-snippets==0.0.1) (0.10.3.post1)\n",
      "Requirement already satisfied: resampy>=0.2.2 in /home/yyr/anaconda3/lib/python3.7/site-packages (from librosa->audio-snippets==0.0.1) (0.2.2)\n",
      "Requirement already satisfied: joblib>=0.14 in /home/yyr/anaconda3/lib/python3.7/site-packages (from librosa->audio-snippets==0.0.1) (1.0.1)\n",
      "Requirement already satisfied: numba>=0.43.0 in /home/yyr/anaconda3/lib/python3.7/site-packages (from librosa->audio-snippets==0.0.1) (0.48.0)\n",
      "Requirement already satisfied: pooch>=1.0 in /home/yyr/anaconda3/lib/python3.7/site-packages (from librosa->audio-snippets==0.0.1) (1.5.2)\n",
      "Requirement already satisfied: scipy>=1.0.0 in /home/yyr/anaconda3/lib/python3.7/site-packages (from librosa->audio-snippets==0.0.1) (1.7.1)\n",
      "Requirement already satisfied: decorator>=3.0.0 in /home/yyr/anaconda3/lib/python3.7/site-packages (from librosa->audio-snippets==0.0.1) (5.1.0)\n",
      "Requirement already satisfied: audioread>=2.0.0 in /home/yyr/anaconda3/lib/python3.7/site-packages (from librosa->audio-snippets==0.0.1) (2.1.9)\n",
      "Requirement already satisfied: scikit-learn!=0.19.0,>=0.14.0 in /home/yyr/anaconda3/lib/python3.7/site-packages (from librosa->audio-snippets==0.0.1) (1.0.1)\n",
      "Requirement already satisfied: numpy>=1.15.0 in /home/yyr/anaconda3/lib/python3.7/site-packages (from librosa->audio-snippets==0.0.1) (1.19.5)\n",
      "Requirement already satisfied: pyparsing<3,>=2.0.2 in /home/yyr/anaconda3/lib/python3.7/site-packages (from packaging->audio-snippets==0.0.1) (2.4.7)\n",
      "Requirement already satisfied: cffi>=1.0 in /home/yyr/anaconda3/lib/python3.7/site-packages (from soundfile->audio-snippets==0.0.1) (1.15.0)\n",
      "Requirement already satisfied: six in /home/yyr/anaconda3/lib/python3.7/site-packages (from plotly->audio-snippets==0.0.1) (1.15.0)\n",
      "Requirement already satisfied: tenacity>=6.2.0 in /home/yyr/anaconda3/lib/python3.7/site-packages (from plotly->audio-snippets==0.0.1) (8.0.1)\n",
      "Requirement already satisfied: dill in /home/yyr/anaconda3/lib/python3.7/site-packages (from torch_snippets->audio-snippets==0.0.1) (0.3.4)\n",
      "Requirement already satisfied: tqdm in /home/yyr/anaconda3/lib/python3.7/site-packages (from torch_snippets->audio-snippets==0.0.1) (4.62.3)\n",
      "Requirement already satisfied: rich in /home/yyr/anaconda3/lib/python3.7/site-packages (from torch_snippets->audio-snippets==0.0.1) (10.12.0)\n",
      "Requirement already satisfied: pandas in /home/yyr/anaconda3/lib/python3.7/site-packages (from torch_snippets->audio-snippets==0.0.1) (1.3.4)\n",
      "Requirement already satisfied: fastcore in /home/yyr/anaconda3/lib/python3.7/site-packages (from torch_snippets->audio-snippets==0.0.1) (1.3.26)\n",
      "Requirement already satisfied: Pillow in /home/yyr/anaconda3/lib/python3.7/site-packages (from torch_snippets->audio-snippets==0.0.1) (8.4.0)\n",
      "Requirement already satisfied: PyYAML in /home/yyr/anaconda3/lib/python3.7/site-packages (from torch_snippets->audio-snippets==0.0.1) (6.0)\n",
      "Requirement already satisfied: ipython in /home/yyr/anaconda3/lib/python3.7/site-packages (from torch_snippets->audio-snippets==0.0.1) (7.29.0)\n",
      "Requirement already satisfied: loguru in /home/yyr/anaconda3/lib/python3.7/site-packages (from torch_snippets->audio-snippets==0.0.1) (0.5.3)\n",
      "Requirement already satisfied: catalogue in /home/yyr/anaconda3/lib/python3.7/site-packages (from torch_snippets->audio-snippets==0.0.1) (2.0.6)\n",
      "Requirement already satisfied: pydantic in /home/yyr/anaconda3/lib/python3.7/site-packages (from torch_snippets->audio-snippets==0.0.1) (1.8.2)\n",
      "Requirement already satisfied: srsly in /home/yyr/anaconda3/lib/python3.7/site-packages (from torch_snippets->audio-snippets==0.0.1) (2.4.2)\n",
      "Requirement already satisfied: typing-extensions in /home/yyr/anaconda3/lib/python3.7/site-packages (from torch_snippets->audio-snippets==0.0.1) (3.10.0.2)\n",
      "Requirement already satisfied: wasabi in /home/yyr/anaconda3/lib/python3.7/site-packages (from torch_snippets->audio-snippets==0.0.1) (0.8.2)\n",
      "Requirement already satisfied: altair in /home/yyr/anaconda3/lib/python3.7/site-packages (from torch_snippets->audio-snippets==0.0.1) (4.1.0)\n",
      "Requirement already satisfied: matplotlib in /home/yyr/anaconda3/lib/python3.7/site-packages (from torch_snippets->audio-snippets==0.0.1) (3.4.3)\n",
      "Requirement already satisfied: pycparser in /home/yyr/anaconda3/lib/python3.7/site-packages (from cffi>=1.0->soundfile->audio-snippets==0.0.1) (2.20)\n",
      "Requirement already satisfied: llvmlite<0.32.0,>=0.31.0dev0 in /home/yyr/anaconda3/lib/python3.7/site-packages (from numba>=0.43.0->librosa->audio-snippets==0.0.1) (0.31.0)\n",
      "Requirement already satisfied: setuptools in /home/yyr/anaconda3/lib/python3.7/site-packages (from numba>=0.43.0->librosa->audio-snippets==0.0.1) (58.4.0)\n",
      "Requirement already satisfied: requests in /home/yyr/anaconda3/lib/python3.7/site-packages (from pooch>=1.0->librosa->audio-snippets==0.0.1) (2.26.0)\n",
      "Requirement already satisfied: appdirs in /home/yyr/anaconda3/lib/python3.7/site-packages (from pooch>=1.0->librosa->audio-snippets==0.0.1) (1.4.4)\n",
      "Requirement already satisfied: threadpoolctl>=2.0.0 in /home/yyr/anaconda3/lib/python3.7/site-packages (from scikit-learn!=0.19.0,>=0.14.0->librosa->audio-snippets==0.0.1) (3.0.0)\n",
      "Requirement already satisfied: toolz in /home/yyr/anaconda3/lib/python3.7/site-packages (from altair->torch_snippets->audio-snippets==0.0.1) (0.11.1)\n",
      "Requirement already satisfied: entrypoints in /home/yyr/anaconda3/lib/python3.7/site-packages (from altair->torch_snippets->audio-snippets==0.0.1) (0.3)\n",
      "Requirement already satisfied: jsonschema in /home/yyr/anaconda3/lib/python3.7/site-packages (from altair->torch_snippets->audio-snippets==0.0.1) (3.2.0)\n",
      "Requirement already satisfied: jinja2 in /home/yyr/anaconda3/lib/python3.7/site-packages (from altair->torch_snippets->audio-snippets==0.0.1) (3.0.2)\n",
      "Requirement already satisfied: pytz>=2017.3 in /home/yyr/anaconda3/lib/python3.7/site-packages (from pandas->torch_snippets->audio-snippets==0.0.1) (2021.3)\n",
      "Requirement already satisfied: python-dateutil>=2.7.3 in /home/yyr/anaconda3/lib/python3.7/site-packages (from pandas->torch_snippets->audio-snippets==0.0.1) (2.8.2)\n",
      "Requirement already satisfied: zipp>=0.5 in /home/yyr/anaconda3/lib/python3.7/site-packages (from catalogue->torch_snippets->audio-snippets==0.0.1) (3.6.0)\n",
      "Requirement already satisfied: pexpect>4.3 in /home/yyr/anaconda3/lib/python3.7/site-packages (from ipython->torch_snippets->audio-snippets==0.0.1) (4.8.0)\n",
      "Requirement already satisfied: pickleshare in /home/yyr/anaconda3/lib/python3.7/site-packages (from ipython->torch_snippets->audio-snippets==0.0.1) (0.7.5)\n",
      "Requirement already satisfied: pygments in /home/yyr/anaconda3/lib/python3.7/site-packages (from ipython->torch_snippets->audio-snippets==0.0.1) (2.10.0)\n",
      "Requirement already satisfied: backcall in /home/yyr/anaconda3/lib/python3.7/site-packages (from ipython->torch_snippets->audio-snippets==0.0.1) (0.2.0)\n",
      "Requirement already satisfied: prompt-toolkit!=3.0.0,!=3.0.1,<3.1.0,>=2.0.0 in /home/yyr/anaconda3/lib/python3.7/site-packages (from ipython->torch_snippets->audio-snippets==0.0.1) (3.0.21)\n",
      "Requirement already satisfied: traitlets>=4.2 in /home/yyr/anaconda3/lib/python3.7/site-packages (from ipython->torch_snippets->audio-snippets==0.0.1) (5.1.1)\n",
      "Requirement already satisfied: jedi>=0.16 in /home/yyr/anaconda3/lib/python3.7/site-packages (from ipython->torch_snippets->audio-snippets==0.0.1) (0.17.2)\n",
      "Requirement already satisfied: matplotlib-inline in /home/yyr/anaconda3/lib/python3.7/site-packages (from ipython->torch_snippets->audio-snippets==0.0.1) (0.1.3)\n",
      "Requirement already satisfied: kiwisolver>=1.0.1 in /home/yyr/anaconda3/lib/python3.7/site-packages (from matplotlib->torch_snippets->audio-snippets==0.0.1) (1.3.2)\n",
      "Requirement already satisfied: cycler>=0.10 in /home/yyr/anaconda3/lib/python3.7/site-packages (from matplotlib->torch_snippets->audio-snippets==0.0.1) (0.11.0)\n",
      "Requirement already satisfied: commonmark<0.10.0,>=0.9.0 in /home/yyr/anaconda3/lib/python3.7/site-packages (from rich->torch_snippets->audio-snippets==0.0.1) (0.9.1)\n",
      "Requirement already satisfied: colorama<0.5.0,>=0.4.0 in /home/yyr/anaconda3/lib/python3.7/site-packages (from rich->torch_snippets->audio-snippets==0.0.1) (0.4.4)\n",
      "Requirement already satisfied: parso<0.8.0,>=0.7.0 in /home/yyr/anaconda3/lib/python3.7/site-packages (from jedi>=0.16->ipython->torch_snippets->audio-snippets==0.0.1) (0.7.1)\n",
      "Requirement already satisfied: ptyprocess>=0.5 in /home/yyr/anaconda3/lib/python3.7/site-packages (from pexpect>4.3->ipython->torch_snippets->audio-snippets==0.0.1) (0.6.0)\n",
      "Requirement already satisfied: wcwidth in /home/yyr/anaconda3/lib/python3.7/site-packages (from prompt-toolkit!=3.0.0,!=3.0.1,<3.1.0,>=2.0.0->ipython->torch_snippets->audio-snippets==0.0.1) (0.2.5)\n",
      "Requirement already satisfied: MarkupSafe>=2.0 in /home/yyr/anaconda3/lib/python3.7/site-packages (from jinja2->altair->torch_snippets->audio-snippets==0.0.1) (2.0.1)\n",
      "Requirement already satisfied: pyrsistent>=0.14.0 in /home/yyr/anaconda3/lib/python3.7/site-packages (from jsonschema->altair->torch_snippets->audio-snippets==0.0.1) (0.18.0)\n",
      "Requirement already satisfied: attrs>=17.4.0 in /home/yyr/anaconda3/lib/python3.7/site-packages (from jsonschema->altair->torch_snippets->audio-snippets==0.0.1) (21.2.0)\n",
      "Requirement already satisfied: importlib-metadata in /home/yyr/anaconda3/lib/python3.7/site-packages (from jsonschema->altair->torch_snippets->audio-snippets==0.0.1) (4.8.1)\n",
      "Requirement already satisfied: charset-normalizer~=2.0.0 in /home/yyr/anaconda3/lib/python3.7/site-packages (from requests->pooch>=1.0->librosa->audio-snippets==0.0.1) (2.0.7)\n",
      "Requirement already satisfied: certifi>=2017.4.17 in /home/yyr/anaconda3/lib/python3.7/site-packages (from requests->pooch>=1.0->librosa->audio-snippets==0.0.1) (2021.10.8)\n",
      "Requirement already satisfied: urllib3<1.27,>=1.21.1 in /home/yyr/anaconda3/lib/python3.7/site-packages (from requests->pooch>=1.0->librosa->audio-snippets==0.0.1) (1.26.7)\n",
      "Requirement already satisfied: idna<4,>=2.5 in /home/yyr/anaconda3/lib/python3.7/site-packages (from requests->pooch>=1.0->librosa->audio-snippets==0.0.1) (3.3)\n",
      "Installing collected packages: audio-snippets\n",
      "  Running setup.py develop for audio-snippets\n",
      "Successfully installed audio-snippets-0.0.1\n"
     ]
    }
   ],
   "source": [
    "from nbdev.export import *\n",
    "notebook2script()\n",
    "!pip install -e ."
   ]
  },
  {
   "cell_type": "code",
   "execution_count": null,
   "metadata": {},
   "outputs": [],
   "source": []
  }
 ],
 "metadata": {
  "kernelspec": {
   "display_name": "Python 3 (ipykernel)",
   "language": "python",
   "name": "python3"
  },
  "language_info": {
   "codemirror_mode": {
    "name": "ipython",
    "version": 3
   },
   "file_extension": ".py",
   "mimetype": "text/x-python",
   "name": "python",
   "nbconvert_exporter": "python",
   "pygments_lexer": "ipython3",
   "version": "3.7.6"
  }
 },
 "nbformat": 4,
 "nbformat_minor": 4
}
